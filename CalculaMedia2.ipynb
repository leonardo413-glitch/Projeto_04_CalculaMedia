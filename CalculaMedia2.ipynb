{
 "cells": [
  {
   "cell_type": "code",
   "execution_count": 24,
   "id": "326ffad3",
   "metadata": {},
   "outputs": [
    {
     "name": "stdout",
     "output_type": "stream",
     "text": [
      "Sua média foi de 6.0, Voce esta de recuperaçao, vai passar as ferias na escola👎👎👌\n"
     ]
    }
   ],
   "source": [
    "\n",
    "### esta mostrando as notas\n",
    "nome = input(\"Qual seu nome?\")\n",
    "\n",
    "nota1 = float(input(\"Digite a sua primeira nota.\"))\n",
    "nota2 = float(input(\"Digite a sua Segunda nota.\"))\n",
    "nota3 = float(input(\"Digite a sua Terceira nota.\"))\n",
    "nota4 = float(input(\"Digite a sua Quarta nota.\"))\n",
    "\n",
    "\n",
    "total = nota1 + nota2 + nota3 + nota4\n",
    "media = total/4\n",
    "\n",
    "\n",
    "if media >= 7.0:\n",
    "    print(f\"Sua média foi de {media}, Voce passou, vai la comer peru\")\n",
    "\n",
    "elif media >= 5.0 and media <=6.9:\n",
    "    print(f\"Sua média foi de {media}, Voce esta de recuperaçao, vai passar as ferias na escola👎👎👌\")\n",
    "    \n",
    "else:\n",
    "    print(f\"Sua média foi de {media}, Voce foi reprovado, gayzin\")\n",
    "    "
   ]
  },
  {
   "cell_type": "code",
   "execution_count": null,
   "id": "51529826",
   "metadata": {},
   "outputs": [],
   "source": [
    "print(media)\n"
   ]
  }
 ],
 "metadata": {
  "kernelspec": {
   "display_name": "Python 3",
   "language": "python",
   "name": "python3"
  },
  "language_info": {
   "codemirror_mode": {
    "name": "ipython",
    "version": 3
   },
   "file_extension": ".py",
   "mimetype": "text/x-python",
   "name": "python",
   "nbconvert_exporter": "python",
   "pygments_lexer": "ipython3",
   "version": "3.13.2"
  }
 },
 "nbformat": 4,
 "nbformat_minor": 5
}
